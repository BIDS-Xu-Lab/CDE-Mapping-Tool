{
 "cells": [
  {
   "cell_type": "code",
   "execution_count": null,
   "id": "a40dc0a1-265e-46fa-8f92-3ab7d8ddde97",
   "metadata": {},
   "outputs": [],
   "source": [
    "import pandas as pd\n",
    "from tqdm.std import tqdm\n",
    "import json\n",
    "import os"
   ]
  },
  {
   "cell_type": "markdown",
   "id": "26769814-03ea-498f-9889-5473b0c2e638",
   "metadata": {},
   "source": [
    "## load data"
   ]
  },
  {
   "cell_type": "code",
   "execution_count": null,
   "id": "6bfbc110-8355-423e-b4d4-b46e421ee6dc",
   "metadata": {},
   "outputs": [],
   "source": [
    "file_path = 'covid-19/emb_rank/'"
   ]
  },
  {
   "cell_type": "code",
   "execution_count": null,
   "id": "2b151b2c-a165-49fe-bf91-0066929490d0",
   "metadata": {},
   "outputs": [],
   "source": [
    "filename_list = os.listdir(file_path)"
   ]
  },
  {
   "cell_type": "code",
   "execution_count": null,
   "id": "5c62a422-a99e-4b2c-a6c5-5dbc016d36c6",
   "metadata": {},
   "outputs": [],
   "source": [
    "filename_list"
   ]
  },
  {
   "cell_type": "code",
   "execution_count": null,
   "id": "08c5b76b-ddd8-4fbb-b1c4-6643fa343a9a",
   "metadata": {},
   "outputs": [],
   "source": [
    "df_list = []\n",
    "for filename in filename_list:\n",
    "    df = pd.read_csv(os.path.join(file_path,filename))\n",
    "    df_list.append(df)\n",
    "\n",
    "covid_df = pd.concat(df_list).reset_index(drop=True)"
   ]
  },
  {
   "cell_type": "code",
   "execution_count": null,
   "id": "52594392-abaf-4423-a882-679c1d582780",
   "metadata": {},
   "outputs": [],
   "source": [
    "covid_df"
   ]
  },
  {
   "cell_type": "code",
   "execution_count": null,
   "id": "30a0eb72-75d0-426f-842b-c9e1f2942219",
   "metadata": {},
   "outputs": [],
   "source": [
    "## extract valid colums\n",
    "df = covid_df[[\"Query\",\"GoldName\",\"GoldID\",\"standardConcept\",\"conceptId\"]]"
   ]
  },
  {
   "cell_type": "code",
   "execution_count": null,
   "id": "2abaa52e-af54-4a1e-8c3d-40dc9914bb7c",
   "metadata": {},
   "outputs": [],
   "source": [
    "df.fillna(\"null\",inplace=True)"
   ]
  },
  {
   "cell_type": "code",
   "execution_count": null,
   "id": "aef5d9f7-a40a-4ffe-ac9d-abaad0cc22db",
   "metadata": {},
   "outputs": [],
   "source": [
    "df"
   ]
  },
  {
   "cell_type": "code",
   "execution_count": null,
   "id": "f5239fc2-2d23-424c-8fc1-489a81128e42",
   "metadata": {},
   "outputs": [],
   "source": [
    "df = df[df.GoldID != \"Mapping_Not_Found\"]"
   ]
  },
  {
   "cell_type": "code",
   "execution_count": null,
   "id": "c144e50e-839c-482e-9da6-b52910ca8bb3",
   "metadata": {},
   "outputs": [],
   "source": [
    "df"
   ]
  },
  {
   "cell_type": "code",
   "execution_count": null,
   "id": "03674783-7c90-4a4e-84e8-a2d5fc6f29d4",
   "metadata": {},
   "outputs": [],
   "source": [
    "df_group = df.groupby(\"GoldID\")"
   ]
  },
  {
   "cell_type": "code",
   "execution_count": null,
   "id": "bea65f0f-dd04-49bf-b39a-af659a0028bb",
   "metadata": {},
   "outputs": [],
   "source": [
    "m_vs_one_index = []\n",
    "one_vs_m_index = []\n",
    "one_vs_one_index = []\n",
    "for key, value in df_group.groups.items():\n",
    "    if len(value) > 1:\n",
    "        m_vs_one_index.extend(value) ## add the index of multiple to one instance to list\n",
    "    elif \"||\" in key:\n",
    "        one_vs_m_index.extend(value)\n",
    "    else:\n",
    "        one_vs_one_index.extend(value)"
   ]
  },
  {
   "cell_type": "markdown",
   "id": "1e965276-5902-41c0-83ba-7ab206ba152b",
   "metadata": {},
   "source": [
    "## M vs One¶"
   ]
  },
  {
   "cell_type": "code",
   "execution_count": null,
   "id": "125e2a96-bbd2-4548-814f-8824edb161c3",
   "metadata": {},
   "outputs": [],
   "source": [
    "m_vs_one_df = df[df.index.isin(m_vs_one_index)]"
   ]
  },
  {
   "cell_type": "code",
   "execution_count": null,
   "id": "5ecc6e09-2378-48a7-827e-9105c9dcdd4f",
   "metadata": {},
   "outputs": [],
   "source": [
    "m_vs_one_df"
   ]
  },
  {
   "cell_type": "markdown",
   "id": "e25f9558-6689-408a-b894-0ab49a74bf38",
   "metadata": {},
   "source": [
    "## One vs M"
   ]
  },
  {
   "cell_type": "code",
   "execution_count": null,
   "id": "319e2073-83d9-49cd-8abd-6e2698a9bbd7",
   "metadata": {},
   "outputs": [],
   "source": [
    "one_vs_m_df = df[df.index.isin(one_vs_m_index)]"
   ]
  },
  {
   "cell_type": "code",
   "execution_count": null,
   "id": "99b8cc8d-f0d2-4653-bef1-a083a427c543",
   "metadata": {},
   "outputs": [],
   "source": [
    "one_vs_m_df"
   ]
  },
  {
   "cell_type": "markdown",
   "id": "132a75b5-b99c-47b0-8d7e-cba7d51800c1",
   "metadata": {},
   "source": [
    "## one vs one"
   ]
  },
  {
   "cell_type": "code",
   "execution_count": null,
   "id": "8b96f99d-e5cb-48d6-b15e-fb833d11c144",
   "metadata": {},
   "outputs": [],
   "source": [
    "one_vs_one_df = df[df.index.isin(one_vs_one_index)]"
   ]
  },
  {
   "cell_type": "code",
   "execution_count": null,
   "id": "02f7b4b2-0efb-4cc6-b489-79f1c3de39ca",
   "metadata": {},
   "outputs": [],
   "source": [
    "one_vs_one_df"
   ]
  },
  {
   "cell_type": "code",
   "execution_count": null,
   "id": "47a41905-d5b9-46e9-8f95-24234b0dd293",
   "metadata": {},
   "outputs": [],
   "source": [
    "## extracting goldId and predId\n",
    "def extract_GoldIdAndPredId(df):\n",
    "    goldIds = []\n",
    "    predIds = []\n",
    "    for row in df.itertuples():\n",
    "        goldId = row.GoldID.split(\"||\")\n",
    "        goldIds.append(goldId)\n",
    "        \n",
    "        predId = row.conceptId\n",
    "        predIds.append([predId])\n",
    "    return goldIds, predIds"
   ]
  },
  {
   "cell_type": "code",
   "execution_count": null,
   "id": "99578593-5d90-486b-8803-d29b56eb7fd8",
   "metadata": {},
   "outputs": [],
   "source": [
    "def calculate_acc_at_k(goldId, predId, k):\n",
    "    correct = 0\n",
    "    for gold, pred in zip(goldId, predId):\n",
    "        if any(p in gold for p in pred[:k]):\n",
    "            correct += 1\n",
    "    return correct / len(goldId)\n",
    "\n",
    "\n",
    "def calculate_precision_recall_f1(goldId, predId):\n",
    "    true_positive = 0\n",
    "    total_predicted = 0\n",
    "    total_gold = 0\n",
    "    \n",
    "    for gold, pred in zip(goldId, predId):\n",
    "        true_positive += len(set(gold) & set(pred))\n",
    "        total_predicted += len(pred)\n",
    "        total_gold += len(gold)\n",
    "    \n",
    "    precision = true_positive / total_predicted if total_predicted > 0 else 0\n",
    "    recall = true_positive / total_gold if total_gold > 0 else 0\n",
    "    f1 = 2 * (precision * recall) / (precision + recall) if (precision + recall) > 0 else 0\n",
    "    \n",
    "    return precision, recall, f1\n",
    "\n",
    "\n",
    "def calculate_precision_recall_at_k(goldId, predId, k):\n",
    "    true_positive = 0\n",
    "    total_predicted = 0\n",
    "    total_gold = 0\n",
    "    \n",
    "    for gold, pred in zip(goldId, predId):\n",
    "        true_positive += len(set(gold) & set(pred[:k]))\n",
    "        total_predicted += min(len(pred[:k]), k)\n",
    "        total_gold += len(gold)\n",
    "    \n",
    "    precision = true_positive / total_predicted if total_predicted > 0 else 0\n",
    "    recall = true_positive / total_gold if total_gold > 0 else 0\n",
    "    \n",
    "    return precision, recall"
   ]
  },
  {
   "cell_type": "markdown",
   "id": "3e9a1375-9efe-4c20-bf77-36cee592992d",
   "metadata": {},
   "source": [
    "## results of One vs One"
   ]
  },
  {
   "cell_type": "code",
   "execution_count": null,
   "id": "0b58b979-0260-47d3-8309-74b75325e4d6",
   "metadata": {},
   "outputs": [],
   "source": [
    "goldIds, predIds = extract_GoldIdAndPredId(one_vs_one_df)"
   ]
  },
  {
   "cell_type": "code",
   "execution_count": null,
   "id": "b350cc1a-2e8c-4c8f-b784-576cfcaf501d",
   "metadata": {},
   "outputs": [],
   "source": [
    "total_acc = {}\n",
    "\n",
    "p, r, f1 = calculate_precision_recall_f1(goldIds,predIds)\n",
    "total_acc['precision'] = p\n",
    "total_acc['recall'] = r\n",
    "total_acc['f1'] = f1\n",
    "\n",
    "total_acc"
   ]
  },
  {
   "cell_type": "markdown",
   "id": "236c0c04-ee26-4235-ac29-4edbe2cb69d1",
   "metadata": {},
   "source": [
    "## result M vs one"
   ]
  },
  {
   "cell_type": "code",
   "execution_count": null,
   "id": "7b1cb2ef-5bd5-4a6c-ab92-24175eefc228",
   "metadata": {},
   "outputs": [],
   "source": [
    "goldIds, predIds = extract_GoldIdAndPredId(m_vs_one_df)"
   ]
  },
  {
   "cell_type": "code",
   "execution_count": null,
   "id": "e32353c3-4a62-46b3-acd7-e88beb2b7872",
   "metadata": {},
   "outputs": [],
   "source": [
    "total_acc = {}\n",
    "\n",
    "p, r, f1 = calculate_precision_recall_f1(goldIds,predIds)\n",
    "total_acc['precision'] = p\n",
    "total_acc['recall'] = r\n",
    "total_acc['f1'] = f1\n",
    "\n",
    "total_acc"
   ]
  },
  {
   "cell_type": "markdown",
   "id": "42f25b1b-a69d-4641-9516-95e891c8b95f",
   "metadata": {},
   "source": [
    "## result one vs M"
   ]
  },
  {
   "cell_type": "code",
   "execution_count": null,
   "id": "49aa0707-52e3-45db-8e8e-498685f60d84",
   "metadata": {},
   "outputs": [],
   "source": [
    "goldIds, predIds = extract_GoldIdAndPredId(one_vs_m_df)"
   ]
  },
  {
   "cell_type": "code",
   "execution_count": null,
   "id": "ae5e615e-c335-48b8-9bd8-adb8a8cfdcd1",
   "metadata": {},
   "outputs": [],
   "source": [
    "total_acc = {}\n",
    "\n",
    "p, r, f1 = calculate_precision_recall_f1(goldIds,predIds)\n",
    "total_acc['precision'] = p\n",
    "total_acc['recall'] = r\n",
    "total_acc['f1'] = f1\n",
    "\n",
    "total_acc"
   ]
  },
  {
   "cell_type": "code",
   "execution_count": null,
   "id": "04620a1f-fee3-4fe6-8425-ae01cbd262a3",
   "metadata": {},
   "outputs": [],
   "source": []
  }
 ],
 "metadata": {
  "kernelspec": {
   "display_name": "tf-cuda",
   "language": "python",
   "name": "tf-cuda"
  },
  "language_info": {
   "codemirror_mode": {
    "name": "ipython",
    "version": 3
   },
   "file_extension": ".py",
   "mimetype": "text/x-python",
   "name": "python",
   "nbconvert_exporter": "python",
   "pygments_lexer": "ipython3",
   "version": "3.11.7"
  }
 },
 "nbformat": 4,
 "nbformat_minor": 5
}
