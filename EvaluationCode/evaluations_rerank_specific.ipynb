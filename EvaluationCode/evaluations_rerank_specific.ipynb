{
 "cells": [
  {
   "cell_type": "code",
   "execution_count": null,
   "id": "a40dc0a1-265e-46fa-8f92-3ab7d8ddde97",
   "metadata": {},
   "outputs": [],
   "source": [
    "import pandas as pd\n",
    "from tqdm.std import tqdm\n",
    "import json"
   ]
  },
  {
   "cell_type": "markdown",
   "id": "26769814-03ea-498f-9889-5473b0c2e638",
   "metadata": {},
   "source": [
    "## load data"
   ]
  },
  {
   "cell_type": "code",
   "execution_count": null,
   "id": "6bfbc110-8355-423e-b4d4-b46e421ee6dc",
   "metadata": {},
   "outputs": [],
   "source": [
    "file_name = 'result data path'"
   ]
  },
  {
   "cell_type": "code",
   "execution_count": null,
   "id": "2b151b2c-a165-49fe-bf91-0066929490d0",
   "metadata": {},
   "outputs": [],
   "source": [
    "df = pd.read_csv(file_name)"
   ]
  },
  {
   "cell_type": "code",
   "execution_count": null,
   "id": "08c5b76b-ddd8-4fbb-b1c4-6643fa343a9a",
   "metadata": {},
   "outputs": [],
   "source": [
    "df"
   ]
  },
  {
   "cell_type": "code",
   "execution_count": null,
   "id": "30a0eb72-75d0-426f-842b-c9e1f2942219",
   "metadata": {},
   "outputs": [],
   "source": [
    "## extract valid colums\n",
    "df = df[[\"Element\",\"GoldName\",\"GoldID\",\"standardConcept\",\"conceptId\"]]"
   ]
  },
  {
   "cell_type": "code",
   "execution_count": null,
   "id": "2abaa52e-af54-4a1e-8c3d-40dc9914bb7c",
   "metadata": {},
   "outputs": [],
   "source": [
    "df.fillna(\"null\",inplace=True)"
   ]
  },
  {
   "cell_type": "code",
   "execution_count": null,
   "id": "aef5d9f7-a40a-4ffe-ac9d-abaad0cc22db",
   "metadata": {},
   "outputs": [],
   "source": [
    "df"
   ]
  },
  {
   "cell_type": "code",
   "execution_count": null,
   "id": "14d884eb-4d66-47f8-a125-76bdc76c4216",
   "metadata": {},
   "outputs": [],
   "source": [
    "df = df[df.GoldID != \"Mapping_Not_Found\"]"
   ]
  },
  {
   "cell_type": "code",
   "execution_count": null,
   "id": "dc57df14-02c6-441f-adcb-e5184adc91a9",
   "metadata": {},
   "outputs": [],
   "source": [
    "df"
   ]
  },
  {
   "cell_type": "code",
   "execution_count": null,
   "id": "11ba815f-14f5-4126-9b61-1243a9bbde1d",
   "metadata": {},
   "outputs": [],
   "source": [
    "df_group = df.groupby(\"GoldID\")"
   ]
  },
  {
   "cell_type": "code",
   "execution_count": null,
   "id": "63ecb3d7-472f-4570-a6a0-9ac3f41e5a88",
   "metadata": {},
   "outputs": [],
   "source": [
    "m_vs_one_index = []\n",
    "one_vs_m_index = []\n",
    "one_vs_one_index = []\n",
    "for key, value in df_group.groups.items():\n",
    "    if len(value) > 1:\n",
    "        m_vs_one_index.extend(value) ## add the index of multiple to one instance to list\n",
    "    elif \"||\" in key:\n",
    "        one_vs_m_index.extend(value)\n",
    "    else:\n",
    "        one_vs_one_index.extend(value)"
   ]
  },
  {
   "cell_type": "markdown",
   "id": "0f488076-99e2-4638-aa94-e03d5630e417",
   "metadata": {},
   "source": [
    "## M vs One"
   ]
  },
  {
   "cell_type": "code",
   "execution_count": null,
   "id": "719fa0fd-cb64-470a-aec8-548d7927767f",
   "metadata": {},
   "outputs": [],
   "source": [
    "m_vs_one_df = df[df.index.isin(m_vs_one_index)]"
   ]
  },
  {
   "cell_type": "code",
   "execution_count": null,
   "id": "b2c42da6-52f9-4794-83b0-72e8b6bd9cdd",
   "metadata": {},
   "outputs": [],
   "source": [
    "m_vs_one_df"
   ]
  },
  {
   "cell_type": "markdown",
   "id": "db28ffa4-3cab-4978-ba12-7466aac6969b",
   "metadata": {},
   "source": [
    "## One vs M"
   ]
  },
  {
   "cell_type": "code",
   "execution_count": null,
   "id": "cb7be000-704c-4445-a030-6ec986bb4901",
   "metadata": {},
   "outputs": [],
   "source": [
    "one_vs_m_df = df[df.index.isin(one_vs_m_index)]"
   ]
  },
  {
   "cell_type": "code",
   "execution_count": null,
   "id": "bb42d024-12ce-40e8-a3d9-d6b7515aa938",
   "metadata": {},
   "outputs": [],
   "source": [
    "one_vs_m_df"
   ]
  },
  {
   "cell_type": "markdown",
   "id": "9066b57e-abc8-45ab-8dd1-99408a4a0f57",
   "metadata": {},
   "source": [
    "## One vs One"
   ]
  },
  {
   "cell_type": "code",
   "execution_count": null,
   "id": "73c9c402-6a55-443f-8705-3fa2652af139",
   "metadata": {},
   "outputs": [],
   "source": [
    "one_vs_one_df = df[df.index.isin(one_vs_one_index)]"
   ]
  },
  {
   "cell_type": "code",
   "execution_count": null,
   "id": "2bbd9dc5-1c50-461a-b95f-c1f248c606ed",
   "metadata": {},
   "outputs": [],
   "source": [
    "one_vs_one_df"
   ]
  },
  {
   "cell_type": "markdown",
   "id": "db510fae-8a33-44ad-aadf-052f6003b9bf",
   "metadata": {},
   "source": [
    "## Metric"
   ]
  },
  {
   "cell_type": "code",
   "execution_count": null,
   "id": "99578593-5d90-486b-8803-d29b56eb7fd8",
   "metadata": {},
   "outputs": [],
   "source": [
    "def calculate_acc_at_k(goldId, predId, k):\n",
    "    correct = 0\n",
    "    for gold, pred in zip(goldId, predId):\n",
    "        if any(p in gold for p in pred[:k]):\n",
    "            correct += 1\n",
    "    return correct / len(goldId)\n",
    "\n",
    "\n",
    "def calculate_precision_recall_f1(goldId, predId):\n",
    "    true_positive = 0\n",
    "    total_predicted = 0\n",
    "    total_gold = 0\n",
    "    \n",
    "    for gold, pred in zip(goldId, predId):\n",
    "        true_positive += len(set(gold) & set(pred))\n",
    "        total_predicted += len(pred)\n",
    "        total_gold += len(gold)\n",
    "    \n",
    "    precision = true_positive / total_predicted if total_predicted > 0 else 0\n",
    "    recall = true_positive / total_gold if total_gold > 0 else 0\n",
    "    f1 = 2 * (precision * recall) / (precision + recall) if (precision + recall) > 0 else 0\n",
    "    \n",
    "    return precision, recall, f1\n",
    "\n",
    "\n",
    "def calculate_precision_recall_at_k(goldId, predId, k):\n",
    "    true_positive = 0\n",
    "    total_predicted = 0\n",
    "    total_gold = 0\n",
    "    \n",
    "    for gold, pred in zip(goldId, predId):\n",
    "        true_positive += len(set(gold) & set(pred[:k]))\n",
    "        total_predicted += min(len(pred[:k]), k)\n",
    "        total_gold += len(gold)\n",
    "    \n",
    "    precision = true_positive / total_predicted if total_predicted > 0 else 0\n",
    "    recall = true_positive / total_gold if total_gold > 0 else 0\n",
    "    \n",
    "    return precision, recall"
   ]
  },
  {
   "cell_type": "markdown",
   "id": "e01f4ac7-403a-4b98-a1a4-742b87588b28",
   "metadata": {},
   "source": [
    "## extracting gold id and pred id"
   ]
  },
  {
   "cell_type": "code",
   "execution_count": null,
   "id": "130a01a3-5eed-4456-9436-3a5bff44ac9d",
   "metadata": {},
   "outputs": [],
   "source": [
    "## extracting goldId and predId\n",
    "def extract_GoldIdAndPredId(df):\n",
    "    goldIds = []\n",
    "    predIds = []\n",
    "    for row in df.itertuples():\n",
    "        goldId = row.GoldID.split(\"||\")\n",
    "        goldIds.append(goldId)\n",
    "        \n",
    "        predId = row.conceptId\n",
    "        predIds.append([predId])\n",
    "    return goldIds, predIds"
   ]
  },
  {
   "cell_type": "markdown",
   "id": "2918637c-cb98-44eb-b97e-87528202e922",
   "metadata": {},
   "source": [
    "## results of One vs One"
   ]
  },
  {
   "cell_type": "code",
   "execution_count": null,
   "id": "bf34d42d-a840-4fdf-9678-0b08b572e7b1",
   "metadata": {},
   "outputs": [],
   "source": [
    "goldIds, predIds = extract_GoldIdAndPredId(one_vs_one_df)"
   ]
  },
  {
   "cell_type": "code",
   "execution_count": null,
   "id": "bec9de54-e439-4585-9005-b4462c40badf",
   "metadata": {},
   "outputs": [],
   "source": [
    "total_acc = {}\n",
    "\n",
    "p, r, f1 = calculate_precision_recall_f1(goldIds,predIds)\n",
    "total_acc['precision'] = p\n",
    "total_acc['recall'] = r\n",
    "total_acc['f1'] = f1\n",
    "\n",
    "total_acc"
   ]
  },
  {
   "cell_type": "markdown",
   "id": "18ce2021-b441-4961-b500-27534157e8b9",
   "metadata": {},
   "source": [
    "## results of M vs One"
   ]
  },
  {
   "cell_type": "code",
   "execution_count": null,
   "id": "fd9f638d-150d-43ed-b8b2-14236ae6bf3e",
   "metadata": {},
   "outputs": [],
   "source": [
    "goldIds, predIds = extract_GoldIdAndPredId(m_vs_one_df)"
   ]
  },
  {
   "cell_type": "code",
   "execution_count": null,
   "id": "fa4ba047-3a73-47d2-8218-5f87caa55c0d",
   "metadata": {},
   "outputs": [],
   "source": [
    "total_acc = {}\n",
    "\n",
    "p, r, f1 = calculate_precision_recall_f1(goldIds,predIds)\n",
    "total_acc['precision'] = p\n",
    "total_acc['recall'] = r\n",
    "total_acc['f1'] = f1\n",
    "\n",
    "total_acc"
   ]
  },
  {
   "cell_type": "markdown",
   "id": "6591f841-be3f-4bdc-8dae-25d792c90c75",
   "metadata": {},
   "source": [
    "## results of One vs M"
   ]
  },
  {
   "cell_type": "code",
   "execution_count": null,
   "id": "04c026b9-e5e9-4aa7-a746-7959eac44149",
   "metadata": {},
   "outputs": [],
   "source": [
    "goldIds, predIds = extract_GoldIdAndPredId(one_vs_m_df)"
   ]
  },
  {
   "cell_type": "code",
   "execution_count": null,
   "id": "bd7e4c6d-0e0c-4802-beff-33726b210c62",
   "metadata": {},
   "outputs": [],
   "source": [
    "total_acc = {}\n",
    "\n",
    "p, r, f1 = calculate_precision_recall_f1(goldIds,predIds)\n",
    "total_acc['precision'] = p\n",
    "total_acc['recall'] = r\n",
    "total_acc['f1'] = f1\n",
    "\n",
    "total_acc"
   ]
  },
  {
   "cell_type": "code",
   "execution_count": null,
   "id": "b14b830a-9f58-4727-8348-5b095a221290",
   "metadata": {},
   "outputs": [],
   "source": []
  }
 ],
 "metadata": {
  "kernelspec": {
   "display_name": "tf-cuda",
   "language": "python",
   "name": "tf-cuda"
  },
  "language_info": {
   "codemirror_mode": {
    "name": "ipython",
    "version": 3
   },
   "file_extension": ".py",
   "mimetype": "text/x-python",
   "name": "python",
   "nbconvert_exporter": "python",
   "pygments_lexer": "ipython3",
   "version": "3.11.7"
  }
 },
 "nbformat": 4,
 "nbformat_minor": 5
}
