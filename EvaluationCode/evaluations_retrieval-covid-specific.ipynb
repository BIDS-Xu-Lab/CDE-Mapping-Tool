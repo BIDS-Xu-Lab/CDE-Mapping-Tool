{
 "cells": [
  {
   "cell_type": "code",
   "execution_count": null,
   "id": "a40dc0a1-265e-46fa-8f92-3ab7d8ddde97",
   "metadata": {},
   "outputs": [],
   "source": [
    "import pandas as pd\n",
    "from tqdm.std import tqdm\n",
    "import json\n",
    "import os"
   ]
  },
  {
   "cell_type": "markdown",
   "id": "26769814-03ea-498f-9889-5473b0c2e638",
   "metadata": {},
   "source": [
    "## load data"
   ]
  },
  {
   "cell_type": "code",
   "execution_count": null,
   "id": "6bfbc110-8355-423e-b4d4-b46e421ee6dc",
   "metadata": {},
   "outputs": [],
   "source": [
    "file_path = 'covid-19/emb/' ## change it to your own path"
   ]
  },
  {
   "cell_type": "code",
   "execution_count": null,
   "id": "8ca5abf5-622d-41d5-a278-1a63665ab52c",
   "metadata": {},
   "outputs": [],
   "source": [
    "filename_list = os.listdir(file_path)"
   ]
  },
  {
   "cell_type": "code",
   "execution_count": null,
   "id": "2269ab5e-76df-4db2-adc5-37ae73c93ed4",
   "metadata": {},
   "outputs": [],
   "source": [
    "filename_list"
   ]
  },
  {
   "cell_type": "code",
   "execution_count": null,
   "id": "9360ed7f-0434-4a8c-b43b-010bcf052f36",
   "metadata": {},
   "outputs": [],
   "source": [
    "df_list = []\n",
    "for filename in filename_list:\n",
    "    df = pd.read_csv(os.path.join(file_path,filename))\n",
    "    df_list.append(df)\n",
    "\n",
    "covid_df = pd.concat(df_list).reset_index(drop=True)"
   ]
  },
  {
   "cell_type": "code",
   "execution_count": null,
   "id": "2b151b2c-a165-49fe-bf91-0066929490d0",
   "metadata": {},
   "outputs": [],
   "source": [
    "covid_df"
   ]
  },
  {
   "cell_type": "code",
   "execution_count": null,
   "id": "30a0eb72-75d0-426f-842b-c9e1f2942219",
   "metadata": {},
   "outputs": [],
   "source": [
    "## extract valid colums\n",
    "df = covid_df[[\"Query\",\"GoldName\",\"GoldID\",\"allResult\"]]"
   ]
  },
  {
   "cell_type": "code",
   "execution_count": null,
   "id": "2abaa52e-af54-4a1e-8c3d-40dc9914bb7c",
   "metadata": {},
   "outputs": [],
   "source": [
    "df.fillna(\"null\",inplace=True)"
   ]
  },
  {
   "cell_type": "code",
   "execution_count": null,
   "id": "aef5d9f7-a40a-4ffe-ac9d-abaad0cc22db",
   "metadata": {},
   "outputs": [],
   "source": [
    "df"
   ]
  },
  {
   "cell_type": "code",
   "execution_count": null,
   "id": "d2964e97-e3c8-421c-87de-fd06fe30c978",
   "metadata": {},
   "outputs": [],
   "source": [
    "df = df[df.GoldID != \"Mapping_Not_Found\"]"
   ]
  },
  {
   "cell_type": "code",
   "execution_count": null,
   "id": "2638e781-141c-4173-8a40-5ce0a0fea900",
   "metadata": {},
   "outputs": [],
   "source": [
    "df"
   ]
  },
  {
   "cell_type": "code",
   "execution_count": null,
   "id": "dc91e1af-d6b4-4399-a2b8-3dc2d1db9259",
   "metadata": {},
   "outputs": [],
   "source": [
    "df_group = df.groupby(\"GoldID\")"
   ]
  },
  {
   "cell_type": "code",
   "execution_count": null,
   "id": "969cb6b0-842a-40e1-8c97-fc95c57f6a3d",
   "metadata": {},
   "outputs": [],
   "source": [
    "m_vs_one_index = []\n",
    "one_vs_m_index = []\n",
    "one_vs_one_index = []\n",
    "for key, value in df_group.groups.items():\n",
    "    if len(value) > 1:\n",
    "        m_vs_one_index.extend(value) ## add the index of multiple to one instance to list\n",
    "    elif \"||\" in key:\n",
    "        one_vs_m_index.extend(value)\n",
    "    else:\n",
    "        one_vs_one_index.extend(value)"
   ]
  },
  {
   "cell_type": "markdown",
   "id": "aa0baaeb-3d4f-4b39-af9d-e5762000afb4",
   "metadata": {},
   "source": [
    "## M vs one"
   ]
  },
  {
   "cell_type": "code",
   "execution_count": null,
   "id": "2e9f0a2d-8ea0-456f-b324-6e29cabe6dd5",
   "metadata": {},
   "outputs": [],
   "source": [
    "m_vs_one_df = df[df.index.isin(m_vs_one_index)]"
   ]
  },
  {
   "cell_type": "code",
   "execution_count": null,
   "id": "f6995fbb-4193-43c0-9055-8d0d6c927530",
   "metadata": {},
   "outputs": [],
   "source": [
    "m_vs_one_df"
   ]
  },
  {
   "cell_type": "markdown",
   "id": "86c89ec0-ac3c-4ef2-ab14-34434ba82c21",
   "metadata": {},
   "source": [
    "## one vs M"
   ]
  },
  {
   "cell_type": "code",
   "execution_count": null,
   "id": "04ab41fa-9675-4620-9010-c9e14a7b491a",
   "metadata": {},
   "outputs": [],
   "source": [
    "one_vs_m_df = df[df.index.isin(one_vs_m_index)]"
   ]
  },
  {
   "cell_type": "code",
   "execution_count": null,
   "id": "2792339d-471d-485a-b90f-1bea70c506ce",
   "metadata": {},
   "outputs": [],
   "source": [
    "one_vs_m_df"
   ]
  },
  {
   "cell_type": "markdown",
   "id": "a6741dd8-5bfa-4b6a-877a-cee541f9c4ff",
   "metadata": {},
   "source": [
    "## one vs one"
   ]
  },
  {
   "cell_type": "code",
   "execution_count": null,
   "id": "73d606e2-fd54-4882-ac68-f7a426efc047",
   "metadata": {},
   "outputs": [],
   "source": [
    "one_vs_one_df = df[df.index.isin(one_vs_one_index)]"
   ]
  },
  {
   "cell_type": "code",
   "execution_count": null,
   "id": "35577c7b-2ddc-4891-9908-ab573d7db5e1",
   "metadata": {},
   "outputs": [],
   "source": [
    "one_vs_one_df"
   ]
  },
  {
   "cell_type": "code",
   "execution_count": null,
   "id": "fabfb8f3-f1d8-4743-b585-319c439eefc5",
   "metadata": {},
   "outputs": [],
   "source": [
    "## parse json\n",
    "def get_predId(element):\n",
    "    predid = element.get(\"conceptId\")\n",
    "    return predid"
   ]
  },
  {
   "cell_type": "code",
   "execution_count": null,
   "id": "ccc1c9bf-9b9a-4a0d-9ded-fc21f167eb7f",
   "metadata": {},
   "outputs": [],
   "source": [
    "## get the actual results:\n",
    "def filter_results(results):\n",
    "    result_list = []\n",
    "    for result in results:\n",
    "        if result.get(\"score\") > 0:\n",
    "            result_list.append(result)\n",
    "    return result_list"
   ]
  },
  {
   "cell_type": "code",
   "execution_count": null,
   "id": "11ba815f-14f5-4126-9b61-1243a9bbde1d",
   "metadata": {},
   "outputs": [],
   "source": [
    "## extracting goldId and predId\n",
    "def extract_GoldIdAndPredId(df):\n",
    "    goldIds = []\n",
    "    predIds = []\n",
    "    for row in df.itertuples():\n",
    "        goldId = row.GoldID.split(\"||\")\n",
    "        goldIds.append(goldId)\n",
    "        \n",
    "        all_results = row.allResult\n",
    "        if 'null' in all_results:\n",
    "            all_results = all_results.replace('null', 'None')\n",
    "        allResults = eval(all_results)[:10]\n",
    "        allResults = filter_results(allResults)\n",
    "        predId_list = []\n",
    "        if len(allResults) == 0:\n",
    "            predId_list.append(\"Mapping_Not_Found\")\n",
    "        else:\n",
    "            for result in allResults:\n",
    "                predId = get_predId(result)\n",
    "                predId_list.append(predId)\n",
    "        predIds.append(predId_list)\n",
    "    return goldIds, predIds\n",
    "        "
   ]
  },
  {
   "cell_type": "code",
   "execution_count": null,
   "id": "99578593-5d90-486b-8803-d29b56eb7fd8",
   "metadata": {},
   "outputs": [],
   "source": [
    "def calculate_acc_at_k(goldId, predId, k):\n",
    "    correct = 0\n",
    "    for gold, pred in zip(goldId, predId):\n",
    "        if any(p in gold for p in pred[:k]):\n",
    "            correct += 1\n",
    "    return correct / len(goldId)\n",
    "\n",
    "\n",
    "def calculate_precision_recall_f1(goldId, predId):\n",
    "    true_positive = 0\n",
    "    total_predicted = 0\n",
    "    total_gold = 0\n",
    "    \n",
    "    for gold, pred in zip(goldId, predId):\n",
    "        true_positive += len(set(gold) & set(pred))\n",
    "        total_predicted += len(pred)\n",
    "        total_gold += len(gold)\n",
    "    \n",
    "    precision = true_positive / total_predicted if total_predicted > 0 else 0\n",
    "    recall = true_positive / total_gold if total_gold > 0 else 0\n",
    "    f1 = 2 * (precision * recall) / (precision + recall) if (precision + recall) > 0 else 0\n",
    "    \n",
    "    return precision, recall, f1\n",
    "\n",
    "\n",
    "def calculate_precision_recall_at_k(goldId, predId, k):\n",
    "    true_positive = 0\n",
    "    total_predicted = 0\n",
    "    total_gold = 0\n",
    "    \n",
    "    for gold, pred in zip(goldId, predId):\n",
    "        true_positive += len(set(gold) & set(pred[:k]))\n",
    "        total_predicted += min(len(pred[:k]), k)\n",
    "        total_gold += len(gold)\n",
    "    \n",
    "    precision = true_positive / total_predicted if total_predicted > 0 else 0\n",
    "    recall = true_positive / total_gold if total_gold > 0 else 0\n",
    "    f1 = 2 * (precision * recall) / (precision + recall) if (precision + recall) > 0 else 0\n",
    "    \n",
    "    return precision, recall, f1"
   ]
  },
  {
   "cell_type": "markdown",
   "id": "af258403-c05c-48b3-85e3-c4c75fda5273",
   "metadata": {},
   "source": [
    "## result of one vs one"
   ]
  },
  {
   "cell_type": "code",
   "execution_count": null,
   "id": "4ac282a3-0d47-44c5-8996-97d19b38f72a",
   "metadata": {},
   "outputs": [],
   "source": [
    "goldIds, predIds = extract_GoldIdAndPredId(one_vs_one_df)"
   ]
  },
  {
   "cell_type": "code",
   "execution_count": null,
   "id": "f9ee812b-c7db-4d83-9f4e-73f472c255c4",
   "metadata": {},
   "outputs": [],
   "source": [
    "k_values = [1, 5, 10]\n",
    "\n",
    "total_acc = {}\n",
    "\n",
    "for k in k_values:\n",
    "    avg_acc = calculate_acc_at_k(goldIds, predIds, k)\n",
    "    precison, recall, f = calculate_precision_recall_at_k(goldIds,predIds,k)\n",
    "    total_acc[f'acc@{k}'] = avg_acc\n",
    "    total_acc[f\"precision@{k}\"] = precison\n",
    "    total_acc[f\"recall@{k}\"] = recall\n",
    "    total_acc[f\"f1@{k}\"] = f\n",
    "\n",
    "p, r, f1 = calculate_precision_recall_f1(goldIds,predIds)\n",
    "total_acc['precision'] = p\n",
    "total_acc['recall'] = r\n",
    "total_acc['f1'] = f1\n",
    "\n",
    "total_acc"
   ]
  },
  {
   "cell_type": "markdown",
   "id": "1a7126d2-da59-43ce-90f0-5645d934bc11",
   "metadata": {},
   "source": [
    "## result of M vs one"
   ]
  },
  {
   "cell_type": "code",
   "execution_count": null,
   "id": "549cadaf-f930-4402-8b7f-871bb26c3aa8",
   "metadata": {},
   "outputs": [],
   "source": [
    "goldIds, predIds = extract_GoldIdAndPredId(m_vs_one_df)"
   ]
  },
  {
   "cell_type": "code",
   "execution_count": null,
   "id": "73721688-1fa8-4123-9b89-1438c9e511fc",
   "metadata": {},
   "outputs": [],
   "source": [
    "k_values = [1, 5, 10]\n",
    "\n",
    "total_acc = {}\n",
    "\n",
    "for k in k_values:\n",
    "    avg_acc = calculate_acc_at_k(goldIds, predIds, k)\n",
    "    precison, recall, f = calculate_precision_recall_at_k(goldIds,predIds,k)\n",
    "    total_acc[f'acc@{k}'] = avg_acc\n",
    "    total_acc[f\"precision@{k}\"] = precison\n",
    "    total_acc[f\"recall@{k}\"] = recall\n",
    "    total_acc[f\"f1@{k}\"] = f\n",
    "\n",
    "p, r, f1 = calculate_precision_recall_f1(goldIds,predIds)\n",
    "total_acc['precision'] = p\n",
    "total_acc['recall'] = r\n",
    "total_acc['f1'] = f1\n",
    "\n",
    "total_acc"
   ]
  },
  {
   "cell_type": "markdown",
   "id": "f3b0bcb1-a914-4810-82b5-b5c527f42e73",
   "metadata": {},
   "source": [
    "## result of one vs M"
   ]
  },
  {
   "cell_type": "code",
   "execution_count": null,
   "id": "9c9b23d9-5901-4c2b-8f45-846045b103e0",
   "metadata": {},
   "outputs": [],
   "source": [
    "goldIds, predIds = extract_GoldIdAndPredId(one_vs_m_df)"
   ]
  },
  {
   "cell_type": "code",
   "execution_count": null,
   "id": "48e89fd5-5344-4e99-9ad3-781a6e9cf335",
   "metadata": {},
   "outputs": [],
   "source": [
    "k_values = [1, 5, 10]\n",
    "\n",
    "total_acc = {}\n",
    "\n",
    "for k in k_values:\n",
    "    avg_acc = calculate_acc_at_k(goldIds, predIds, k)\n",
    "    precison, recall, f = calculate_precision_recall_at_k(goldIds,predIds,k)\n",
    "    total_acc[f'acc@{k}'] = avg_acc\n",
    "    total_acc[f\"precision@{k}\"] = precison\n",
    "    total_acc[f\"recall@{k}\"] = recall\n",
    "    total_acc[f\"f1@{k}\"] = f\n",
    "\n",
    "p, r, f1 = calculate_precision_recall_f1(goldIds,predIds)\n",
    "total_acc['precision'] = p\n",
    "total_acc['recall'] = r\n",
    "total_acc['f1'] = f1\n",
    "\n",
    "total_acc"
   ]
  },
  {
   "cell_type": "code",
   "execution_count": null,
   "id": "46e59979-4a74-4ea1-b3d2-e58e89ea2f37",
   "metadata": {},
   "outputs": [],
   "source": []
  }
 ],
 "metadata": {
  "kernelspec": {
   "display_name": "tf-cuda",
   "language": "python",
   "name": "tf-cuda"
  },
  "language_info": {
   "codemirror_mode": {
    "name": "ipython",
    "version": 3
   },
   "file_extension": ".py",
   "mimetype": "text/x-python",
   "name": "python",
   "nbconvert_exporter": "python",
   "pygments_lexer": "ipython3",
   "version": "3.11.7"
  }
 },
 "nbformat": 4,
 "nbformat_minor": 5
}
