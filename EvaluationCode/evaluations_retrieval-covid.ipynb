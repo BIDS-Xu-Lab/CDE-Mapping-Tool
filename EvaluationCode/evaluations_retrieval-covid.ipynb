{
 "cells": [
  {
   "cell_type": "code",
   "execution_count": null,
   "id": "a40dc0a1-265e-46fa-8f92-3ab7d8ddde97",
   "metadata": {},
   "outputs": [],
   "source": [
    "import pandas as pd\n",
    "from tqdm.std import tqdm\n",
    "import json\n",
    "import os"
   ]
  },
  {
   "cell_type": "markdown",
   "id": "26769814-03ea-498f-9889-5473b0c2e638",
   "metadata": {},
   "source": [
    "## load data"
   ]
  },
  {
   "cell_type": "code",
   "execution_count": null,
   "id": "6bfbc110-8355-423e-b4d4-b46e421ee6dc",
   "metadata": {},
   "outputs": [],
   "source": [
    "file_path = 'covid-19/expansion/' ## change it to your own path"
   ]
  },
  {
   "cell_type": "code",
   "execution_count": null,
   "id": "8ca5abf5-622d-41d5-a278-1a63665ab52c",
   "metadata": {},
   "outputs": [],
   "source": [
    "filename_list = os.listdir(file_path)"
   ]
  },
  {
   "cell_type": "code",
   "execution_count": null,
   "id": "2269ab5e-76df-4db2-adc5-37ae73c93ed4",
   "metadata": {},
   "outputs": [],
   "source": [
    "filename_list"
   ]
  },
  {
   "cell_type": "code",
   "execution_count": null,
   "id": "9360ed7f-0434-4a8c-b43b-010bcf052f36",
   "metadata": {},
   "outputs": [],
   "source": [
    "df_list = []\n",
    "for filename in filename_list:\n",
    "    df = pd.read_csv(os.path.join(file_path,filename))\n",
    "    df_list.append(df)\n",
    "\n",
    "covid_df = pd.concat(df_list).reset_index(drop=True)"
   ]
  },
  {
   "cell_type": "code",
   "execution_count": null,
   "id": "2b151b2c-a165-49fe-bf91-0066929490d0",
   "metadata": {},
   "outputs": [],
   "source": [
    "covid_df"
   ]
  },
  {
   "cell_type": "code",
   "execution_count": null,
   "id": "30a0eb72-75d0-426f-842b-c9e1f2942219",
   "metadata": {},
   "outputs": [],
   "source": [
    "## extract valid colums\n",
    "df = covid_df[[\"Query\",\"GoldName\",\"GoldID\",\"allResult\"]]"
   ]
  },
  {
   "cell_type": "code",
   "execution_count": null,
   "id": "2abaa52e-af54-4a1e-8c3d-40dc9914bb7c",
   "metadata": {},
   "outputs": [],
   "source": [
    "df.fillna(\"null\",inplace=True)"
   ]
  },
  {
   "cell_type": "code",
   "execution_count": null,
   "id": "aef5d9f7-a40a-4ffe-ac9d-abaad0cc22db",
   "metadata": {},
   "outputs": [],
   "source": [
    "df"
   ]
  },
  {
   "cell_type": "code",
   "execution_count": null,
   "id": "fabfb8f3-f1d8-4743-b585-319c439eefc5",
   "metadata": {},
   "outputs": [],
   "source": [
    "## parse json\n",
    "def get_predId(element):\n",
    "    predid = element.get(\"conceptId\")\n",
    "    return predid"
   ]
  },
  {
   "cell_type": "code",
   "execution_count": null,
   "id": "ccc1c9bf-9b9a-4a0d-9ded-fc21f167eb7f",
   "metadata": {},
   "outputs": [],
   "source": [
    "## get the actual results:\n",
    "def filter_results(results):\n",
    "    result_list = []\n",
    "    for result in results:\n",
    "        if result.get(\"score\") > 0:\n",
    "            result_list.append(result)\n",
    "    return result_list"
   ]
  },
  {
   "cell_type": "code",
   "execution_count": null,
   "id": "11ba815f-14f5-4126-9b61-1243a9bbde1d",
   "metadata": {},
   "outputs": [],
   "source": [
    "## extracting goldId and predId\n",
    "def extract_GoldIdAndPredId(df):\n",
    "    goldIds = []\n",
    "    predIds = []\n",
    "    for row in df.itertuples():\n",
    "        goldId = row.GoldID.split(\"||\")\n",
    "        goldIds.append(goldId)\n",
    "        \n",
    "        all_results = row.allResult\n",
    "        if 'null' in all_results:\n",
    "            all_results = all_results.replace('null', 'None')\n",
    "        allResults = eval(all_results)[:10]\n",
    "        allResults = filter_results(allResults)\n",
    "        predId_list = []\n",
    "        if len(allResults) == 0:\n",
    "            predId_list.append(\"Mapping_Not_Found\")\n",
    "        else:\n",
    "            for result in allResults:\n",
    "                predId = get_predId(result)\n",
    "                predId_list.append(predId)\n",
    "        predIds.append(predId_list)\n",
    "    return goldIds, predIds\n",
    "        "
   ]
  },
  {
   "cell_type": "code",
   "execution_count": null,
   "id": "63ecb3d7-472f-4570-a6a0-9ac3f41e5a88",
   "metadata": {},
   "outputs": [],
   "source": [
    "goldIds, predIds = extract_GoldIdAndPredId(df)"
   ]
  },
  {
   "cell_type": "code",
   "execution_count": null,
   "id": "99578593-5d90-486b-8803-d29b56eb7fd8",
   "metadata": {},
   "outputs": [],
   "source": [
    "def calculate_acc_at_k(goldId, predId, k):\n",
    "    correct = 0\n",
    "    for gold, pred in zip(goldId, predId):\n",
    "        if any(p in gold for p in pred[:k]):\n",
    "            correct += 1\n",
    "    return correct / len(goldId)\n",
    "\n",
    "\n",
    "def calculate_precision_recall_f1(goldId, predId):\n",
    "    true_positive = 0\n",
    "    total_predicted = 0\n",
    "    total_gold = 0\n",
    "    \n",
    "    for gold, pred in zip(goldId, predId):\n",
    "        true_positive += len(set(gold) & set(pred))\n",
    "        total_predicted += len(pred)\n",
    "        total_gold += len(gold)\n",
    "    \n",
    "    precision = true_positive / total_predicted if total_predicted > 0 else 0\n",
    "    recall = true_positive / total_gold if total_gold > 0 else 0\n",
    "    f1 = 2 * (precision * recall) / (precision + recall) if (precision + recall) > 0 else 0\n",
    "    \n",
    "    return precision, recall, f1\n",
    "\n",
    "\n",
    "def calculate_precision_recall_at_k(goldId, predId, k):\n",
    "    true_positive = 0\n",
    "    total_predicted = 0\n",
    "    total_gold = 0\n",
    "    \n",
    "    for gold, pred in zip(goldId, predId):\n",
    "        true_positive += len(set(gold) & set(pred[:k]))\n",
    "        total_predicted += min(len(pred[:k]), k)\n",
    "        total_gold += len(gold)\n",
    "    \n",
    "    precision = true_positive / total_predicted if total_predicted > 0 else 0\n",
    "    recall = true_positive / total_gold if total_gold > 0 else 0\n",
    "    f1 = 2 * (precision * recall) / (precision + recall) if (precision + recall) > 0 else 0\n",
    "    \n",
    "    return precision, recall, f1"
   ]
  },
  {
   "cell_type": "code",
   "execution_count": null,
   "id": "bec9de54-e439-4585-9005-b4462c40badf",
   "metadata": {},
   "outputs": [],
   "source": [
    "k_values = [1, 5, 10]\n",
    "\n",
    "total_acc = {}\n",
    "\n",
    "for k in k_values:\n",
    "    avg_acc = calculate_acc_at_k(goldIds, predIds, k)\n",
    "    precison, recall, f = calculate_precision_recall_at_k(goldIds,predIds,k)\n",
    "    total_acc[f'acc@{k}'] = avg_acc\n",
    "    total_acc[f\"precision@{k}\"] = precison\n",
    "    total_acc[f\"recall@{k}\"] = recall\n",
    "    total_acc[f\"f1@{k}\"] = f\n",
    "\n",
    "p, r, f1 = calculate_precision_recall_f1(goldIds,predIds)\n",
    "total_acc['precision'] = p\n",
    "total_acc['recall'] = r\n",
    "total_acc['f1'] = f1\n",
    "\n",
    "total_acc"
   ]
  },
  {
   "cell_type": "markdown",
   "id": "1a7126d2-da59-43ce-90f0-5645d934bc11",
   "metadata": {},
   "source": [
    "## remove Mapping not found"
   ]
  },
  {
   "cell_type": "code",
   "execution_count": null,
   "id": "549cadaf-f930-4402-8b7f-871bb26c3aa8",
   "metadata": {},
   "outputs": [],
   "source": [
    "df1 = df[df.GoldID != \"Mapping_Not_Found\"]"
   ]
  },
  {
   "cell_type": "code",
   "execution_count": null,
   "id": "2d8466f3-373c-46bf-ae8c-28f7df277aca",
   "metadata": {},
   "outputs": [],
   "source": [
    "goldIds, predIds = extract_GoldIdAndPredId(df1)"
   ]
  },
  {
   "cell_type": "code",
   "execution_count": null,
   "id": "73721688-1fa8-4123-9b89-1438c9e511fc",
   "metadata": {},
   "outputs": [],
   "source": [
    "k_values = [1, 5, 10]\n",
    "\n",
    "new_total_acc = {}\n",
    "\n",
    "for k in k_values:\n",
    "    avg_acc = calculate_acc_at_k(goldIds, predIds, k)\n",
    "    precison, recall, f = calculate_precision_recall_at_k(goldIds,predIds,k)\n",
    "    new_total_acc[f'acc@{k}'] = avg_acc\n",
    "    new_total_acc[f\"precision@{k}\"] = precison\n",
    "    new_total_acc[f\"recall@{k}\"] = recall\n",
    "    new_total_acc[f\"f1@{k}\"] = f\n",
    "\n",
    "p, r, f1 = calculate_precision_recall_f1(goldIds,predIds)\n",
    "new_total_acc['precision'] = p\n",
    "new_total_acc['recall'] = r\n",
    "new_total_acc['f1'] = f1\n",
    "\n",
    "new_total_acc"
   ]
  },
  {
   "cell_type": "markdown",
   "id": "fb124730-9bea-4f17-8288-1adb13ba0c06",
   "metadata": {},
   "source": [
    "## only mapping not found"
   ]
  },
  {
   "cell_type": "code",
   "execution_count": null,
   "id": "5c8117f3-24f0-4203-81bf-92ef245dc073",
   "metadata": {},
   "outputs": [],
   "source": [
    "df2 = df[df.GoldID == \"Mapping_Not_Found\"]"
   ]
  },
  {
   "cell_type": "code",
   "execution_count": null,
   "id": "c9d3ca30-c87d-49d2-946f-1d6890124ce8",
   "metadata": {},
   "outputs": [],
   "source": [
    "df2"
   ]
  },
  {
   "cell_type": "code",
   "execution_count": null,
   "id": "8928fe86-cb6a-43cb-85c2-43e0c6d24c80",
   "metadata": {},
   "outputs": [],
   "source": [
    "goldIds, predIds = extract_GoldIdAndPredId(df2)"
   ]
  },
  {
   "cell_type": "code",
   "execution_count": null,
   "id": "c173d133-3ca2-4a31-8bf2-9e11d1fcf843",
   "metadata": {},
   "outputs": [],
   "source": [
    "k_values = [1, 5, 10]\n",
    "\n",
    "new_total_acc = {}\n",
    "\n",
    "for k in k_values:\n",
    "    avg_acc = calculate_acc_at_k(goldIds, predIds, k)\n",
    "    precison, recall, f = calculate_precision_recall_at_k(goldIds,predIds,k)\n",
    "    new_total_acc[f'acc@{k}'] = avg_acc\n",
    "    new_total_acc[f\"precision@{k}\"] = precison\n",
    "    new_total_acc[f\"recall@{k}\"] = recall\n",
    "    new_total_acc[f\"f1@{k}\"] = f\n",
    "\n",
    "p, r, f1 = calculate_precision_recall_f1(goldIds,predIds)\n",
    "new_total_acc['precision'] = p\n",
    "new_total_acc['recall'] = r\n",
    "new_total_acc['f1'] = f1\n",
    "\n",
    "new_total_acc"
   ]
  },
  {
   "cell_type": "code",
   "execution_count": null,
   "id": "208af6e0-edc5-4baf-8578-b7a63e6d2d50",
   "metadata": {},
   "outputs": [],
   "source": []
  }
 ],
 "metadata": {
  "kernelspec": {
   "display_name": "tf-cuda",
   "language": "python",
   "name": "tf-cuda"
  },
  "language_info": {
   "codemirror_mode": {
    "name": "ipython",
    "version": 3
   },
   "file_extension": ".py",
   "mimetype": "text/x-python",
   "name": "python",
   "nbconvert_exporter": "python",
   "pygments_lexer": "ipython3",
   "version": "3.11.7"
  }
 },
 "nbformat": 4,
 "nbformat_minor": 5
}
