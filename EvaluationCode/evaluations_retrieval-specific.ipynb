{
 "cells": [
  {
   "cell_type": "code",
   "execution_count": null,
   "id": "a40dc0a1-265e-46fa-8f92-3ab7d8ddde97",
   "metadata": {},
   "outputs": [],
   "source": [
    "import pandas as pd\n",
    "from tqdm.std import tqdm\n",
    "import json"
   ]
  },
  {
   "cell_type": "markdown",
   "id": "26769814-03ea-498f-9889-5473b0c2e638",
   "metadata": {},
   "source": [
    "## load data"
   ]
  },
  {
   "cell_type": "code",
   "execution_count": null,
   "id": "6bfbc110-8355-423e-b4d4-b46e421ee6dc",
   "metadata": {},
   "outputs": [],
   "source": [
    "file_name = 'eye_new_annotation_v2_bm25.csv' ## change it to your own path"
   ]
  },
  {
   "cell_type": "code",
   "execution_count": null,
   "id": "2b151b2c-a165-49fe-bf91-0066929490d0",
   "metadata": {},
   "outputs": [],
   "source": [
    "df = pd.read_csv(file_name)"
   ]
  },
  {
   "cell_type": "code",
   "execution_count": null,
   "id": "08c5b76b-ddd8-4fbb-b1c4-6643fa343a9a",
   "metadata": {},
   "outputs": [],
   "source": [
    "df"
   ]
  },
  {
   "cell_type": "code",
   "execution_count": null,
   "id": "30a0eb72-75d0-426f-842b-c9e1f2942219",
   "metadata": {},
   "outputs": [],
   "source": [
    "## extract valid colums\n",
    "df = df[[\"Element\",\"GoldName\",\"GoldID\",\"allResult\"]]"
   ]
  },
  {
   "cell_type": "code",
   "execution_count": null,
   "id": "2abaa52e-af54-4a1e-8c3d-40dc9914bb7c",
   "metadata": {},
   "outputs": [],
   "source": [
    "df.fillna(\"null\",inplace=True)"
   ]
  },
  {
   "cell_type": "code",
   "execution_count": null,
   "id": "aef5d9f7-a40a-4ffe-ac9d-abaad0cc22db",
   "metadata": {},
   "outputs": [],
   "source": [
    "df"
   ]
  },
  {
   "cell_type": "code",
   "execution_count": null,
   "id": "d942d1ec-bec7-4179-b266-a3f8c3a1c1d1",
   "metadata": {},
   "outputs": [],
   "source": [
    "df = df[df.GoldID != \"Mapping_Not_Found\"]"
   ]
  },
  {
   "cell_type": "code",
   "execution_count": null,
   "id": "c3520a67-0ba1-42b6-8354-e126e2a03c11",
   "metadata": {},
   "outputs": [],
   "source": [
    "df"
   ]
  },
  {
   "cell_type": "code",
   "execution_count": null,
   "id": "34c831fd-3595-45a4-a5eb-5b4feddba90e",
   "metadata": {},
   "outputs": [],
   "source": [
    "df_group = df.groupby(\"GoldID\")"
   ]
  },
  {
   "cell_type": "code",
   "execution_count": null,
   "id": "e20b7366-29f1-4b66-8ac8-2cf2fcd08301",
   "metadata": {},
   "outputs": [],
   "source": [
    "m_vs_one_index = []\n",
    "one_vs_m_index = []\n",
    "one_vs_one_index = []\n",
    "for key, value in df_group.groups.items():\n",
    "    if len(value) > 1:\n",
    "        m_vs_one_index.extend(value) ## add the index of multiple to one instance to list\n",
    "    elif \"||\" in key:\n",
    "        one_vs_m_index.extend(value)\n",
    "    else:\n",
    "        one_vs_one_index.extend(value)"
   ]
  },
  {
   "cell_type": "markdown",
   "id": "99e7cb9b-cf73-4143-a8e0-54347de3d364",
   "metadata": {},
   "source": [
    "## M vs one"
   ]
  },
  {
   "cell_type": "code",
   "execution_count": null,
   "id": "edb0b958-99ef-4639-8a35-5618ea55302c",
   "metadata": {},
   "outputs": [],
   "source": [
    "m_vs_one_df = df[df.index.isin(m_vs_one_index)]"
   ]
  },
  {
   "cell_type": "code",
   "execution_count": null,
   "id": "21d06859-6398-443d-82af-f7683d594b15",
   "metadata": {},
   "outputs": [],
   "source": [
    "m_vs_one_df"
   ]
  },
  {
   "cell_type": "markdown",
   "id": "f1abd91c-db92-413e-968d-d2b72166a6d2",
   "metadata": {},
   "source": [
    "## one vs M"
   ]
  },
  {
   "cell_type": "code",
   "execution_count": null,
   "id": "8e55ce35-b1dd-43bc-89f6-327d0dfc1bb1",
   "metadata": {},
   "outputs": [],
   "source": [
    "one_vs_m_df = df[df.index.isin(one_vs_m_index)]"
   ]
  },
  {
   "cell_type": "code",
   "execution_count": null,
   "id": "ffbadd5c-36ad-49ad-84ee-e25e1e835c09",
   "metadata": {},
   "outputs": [],
   "source": [
    "one_vs_m_df"
   ]
  },
  {
   "cell_type": "markdown",
   "id": "4f50c5e9-b2db-4419-b240-3ceafa53353c",
   "metadata": {},
   "source": [
    "## one vs one"
   ]
  },
  {
   "cell_type": "code",
   "execution_count": null,
   "id": "e9df4747-2cd7-4b92-a360-269eb58465fb",
   "metadata": {},
   "outputs": [],
   "source": [
    "one_vs_one_df = df[df.index.isin(one_vs_one_index)]"
   ]
  },
  {
   "cell_type": "code",
   "execution_count": null,
   "id": "70e7fb0f-7e59-41fb-86c9-b17fbecee100",
   "metadata": {},
   "outputs": [],
   "source": [
    "one_vs_one_df"
   ]
  },
  {
   "cell_type": "markdown",
   "id": "f90415b9-233c-42db-81a2-0f4b9d04cee7",
   "metadata": {},
   "source": [
    "## metrec"
   ]
  },
  {
   "cell_type": "code",
   "execution_count": null,
   "id": "99578593-5d90-486b-8803-d29b56eb7fd8",
   "metadata": {},
   "outputs": [],
   "source": [
    "def calculate_acc_at_k(goldId, predId, k):\n",
    "    correct = 0\n",
    "    for gold, pred in zip(goldId, predId):\n",
    "        if any(p in gold for p in pred[:k]):\n",
    "            correct += 1\n",
    "    return correct / len(goldId)\n",
    "\n",
    "\n",
    "def calculate_precision_recall_f1(goldId, predId):\n",
    "    true_positive = 0\n",
    "    total_predicted = 0\n",
    "    total_gold = 0\n",
    "    \n",
    "    for gold, pred in zip(goldId, predId):\n",
    "        true_positive += len(set(gold) & set(pred))\n",
    "        total_predicted += len(pred)\n",
    "        total_gold += len(gold)\n",
    "    \n",
    "    precision = true_positive / total_predicted if total_predicted > 0 else 0\n",
    "    recall = true_positive / total_gold if total_gold > 0 else 0\n",
    "    f1 = 2 * (precision * recall) / (precision + recall) if (precision + recall) > 0 else 0\n",
    "    \n",
    "    return precision, recall, f1\n",
    "\n",
    "\n",
    "def calculate_precision_recall_at_k(goldId, predId, k):\n",
    "    true_positive = 0\n",
    "    total_predicted = 0\n",
    "    total_gold = 0\n",
    "    \n",
    "    for gold, pred in zip(goldId, predId):\n",
    "        true_positive += len(set(gold) & set(pred[:k]))\n",
    "        total_predicted += min(len(pred[:k]), k)\n",
    "        total_gold += len(gold)\n",
    "    \n",
    "    precision = true_positive / total_predicted if total_predicted > 0 else 0\n",
    "    recall = true_positive / total_gold if total_gold > 0 else 0\n",
    "    f1 = 2 * (precision * recall) / (precision + recall) if (precision + recall) > 0 else 0\n",
    "    \n",
    "    return precision, recall, f1"
   ]
  },
  {
   "cell_type": "markdown",
   "id": "a0c2e304-9312-4bae-b73c-f4dbabc45b62",
   "metadata": {},
   "source": [
    "## extracting goldid and predid"
   ]
  },
  {
   "cell_type": "code",
   "execution_count": null,
   "id": "fabfb8f3-f1d8-4743-b585-319c439eefc5",
   "metadata": {},
   "outputs": [],
   "source": [
    "## parse json\n",
    "def get_predId(element):\n",
    "    predid = element.get(\"conceptId\")\n",
    "    return predid"
   ]
  },
  {
   "cell_type": "code",
   "execution_count": null,
   "id": "ccc1c9bf-9b9a-4a0d-9ded-fc21f167eb7f",
   "metadata": {},
   "outputs": [],
   "source": [
    "## get the actual results:\n",
    "def filter_results(results):\n",
    "    result_list = []\n",
    "    for result in results:\n",
    "        if result.get(\"score\") > 0:\n",
    "            result_list.append(result)\n",
    "    return result_list"
   ]
  },
  {
   "cell_type": "code",
   "execution_count": null,
   "id": "11ba815f-14f5-4126-9b61-1243a9bbde1d",
   "metadata": {},
   "outputs": [],
   "source": [
    "## extracting goldId and predId\n",
    "def extract_GoldIdAndPredId(df):\n",
    "    goldIds = []\n",
    "    predIds = []\n",
    "    for row in df.itertuples():\n",
    "        goldId = row.GoldID.split(\"||\")\n",
    "        goldIds.append(goldId)\n",
    "        \n",
    "        all_results = row.allResult\n",
    "        if 'null' in all_results:\n",
    "            all_results = all_results.replace('null', 'None')\n",
    "        allResults = eval(all_results)[:10]\n",
    "        allResults = filter_results(allResults)\n",
    "        predId_list = []\n",
    "        if len(allResults) == 0:\n",
    "            predId_list.append(\"Mapping_Not_Found\")\n",
    "        else:\n",
    "            for result in allResults:\n",
    "                predId = get_predId(result)\n",
    "                predId_list.append(predId)\n",
    "        predIds.append(predId_list)\n",
    "    return goldIds, predIds\n",
    "        "
   ]
  },
  {
   "cell_type": "markdown",
   "id": "43fd6c6e-2588-48cd-a465-c1c9f3399478",
   "metadata": {},
   "source": [
    "## result of one vs one"
   ]
  },
  {
   "cell_type": "code",
   "execution_count": null,
   "id": "72342def-6b83-477f-a428-434a5e11d11a",
   "metadata": {},
   "outputs": [],
   "source": [
    "goldIds, predIds = extract_GoldIdAndPredId(one_vs_one_df)"
   ]
  },
  {
   "cell_type": "code",
   "execution_count": null,
   "id": "bec9de54-e439-4585-9005-b4462c40badf",
   "metadata": {},
   "outputs": [],
   "source": [
    "k_values = [1, 5, 10]\n",
    "\n",
    "total_acc = {}\n",
    "\n",
    "for k in k_values:\n",
    "    avg_acc = calculate_acc_at_k(goldIds, predIds, k)\n",
    "    precison, recall, f = calculate_precision_recall_at_k(goldIds,predIds,k)\n",
    "    total_acc[f'acc@{k}'] = avg_acc\n",
    "    total_acc[f\"precision@{k}\"] = precison\n",
    "    total_acc[f\"recall@{k}\"] = recall\n",
    "    total_acc[f\"f1@{k}\"] = f\n",
    "\n",
    "p, r, f1 = calculate_precision_recall_f1(goldIds,predIds)\n",
    "total_acc['precision'] = p\n",
    "total_acc['recall'] = r\n",
    "total_acc['f1'] = f1\n",
    "\n",
    "total_acc"
   ]
  },
  {
   "cell_type": "markdown",
   "id": "c1a9864d-f200-4741-84eb-01740f4b3f96",
   "metadata": {},
   "source": [
    "## result of M vs one"
   ]
  },
  {
   "cell_type": "code",
   "execution_count": null,
   "id": "0d6e386f-7d34-4a0e-9e94-90abe4a9b2d9",
   "metadata": {},
   "outputs": [],
   "source": [
    "goldIds, predIds = extract_GoldIdAndPredId(m_vs_one_df)"
   ]
  },
  {
   "cell_type": "code",
   "execution_count": null,
   "id": "1a1ddd20-c749-4c28-9620-ac35f22c1a1e",
   "metadata": {},
   "outputs": [],
   "source": [
    "k_values = [1, 5, 10]\n",
    "\n",
    "total_acc = {}\n",
    "\n",
    "for k in k_values:\n",
    "    avg_acc = calculate_acc_at_k(goldIds, predIds, k)\n",
    "    precison, recall, f = calculate_precision_recall_at_k(goldIds,predIds,k)\n",
    "    total_acc[f'acc@{k}'] = avg_acc\n",
    "    total_acc[f\"precision@{k}\"] = precison\n",
    "    total_acc[f\"recall@{k}\"] = recall\n",
    "    total_acc[f\"f1@{k}\"] = f\n",
    "\n",
    "p, r, f1 = calculate_precision_recall_f1(goldIds,predIds)\n",
    "total_acc['precision'] = p\n",
    "total_acc['recall'] = r\n",
    "total_acc['f1'] = f1\n",
    "\n",
    "total_acc"
   ]
  },
  {
   "cell_type": "markdown",
   "id": "1a7126d2-da59-43ce-90f0-5645d934bc11",
   "metadata": {},
   "source": [
    "## result of one vs M"
   ]
  },
  {
   "cell_type": "code",
   "execution_count": null,
   "id": "9029a4f5-55f4-4866-ac00-b534b177d967",
   "metadata": {},
   "outputs": [],
   "source": [
    "goldIds, predIds = extract_GoldIdAndPredId(one_vs_m_df)"
   ]
  },
  {
   "cell_type": "code",
   "execution_count": null,
   "id": "27ef6f69-205b-428e-a21e-34ff937b0077",
   "metadata": {},
   "outputs": [],
   "source": [
    "k_values = [1, 5, 10]\n",
    "\n",
    "total_acc = {}\n",
    "\n",
    "for k in k_values:\n",
    "    avg_acc = calculate_acc_at_k(goldIds, predIds, k)\n",
    "    precison, recall, f = calculate_precision_recall_at_k(goldIds,predIds,k)\n",
    "    total_acc[f'acc@{k}'] = avg_acc\n",
    "    total_acc[f\"precision@{k}\"] = precison\n",
    "    total_acc[f\"recall@{k}\"] = recall\n",
    "    total_acc[f\"f1@{k}\"] = f\n",
    "\n",
    "p, r, f1 = calculate_precision_recall_f1(goldIds,predIds)\n",
    "total_acc['precision'] = p\n",
    "total_acc['recall'] = r\n",
    "total_acc['f1'] = f1\n",
    "\n",
    "total_acc"
   ]
  },
  {
   "cell_type": "code",
   "execution_count": null,
   "id": "354a3a56-876e-40db-bd55-30be5f1d773b",
   "metadata": {},
   "outputs": [],
   "source": []
  }
 ],
 "metadata": {
  "kernelspec": {
   "display_name": "tf-cuda",
   "language": "python",
   "name": "tf-cuda"
  },
  "language_info": {
   "codemirror_mode": {
    "name": "ipython",
    "version": 3
   },
   "file_extension": ".py",
   "mimetype": "text/x-python",
   "name": "python",
   "nbconvert_exporter": "python",
   "pygments_lexer": "ipython3",
   "version": "3.11.7"
  }
 },
 "nbformat": 4,
 "nbformat_minor": 5
}
